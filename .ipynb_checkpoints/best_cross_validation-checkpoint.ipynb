{
 "cells": [
  {
   "cell_type": "code",
   "execution_count": 21,
   "id": "5396516b",
   "metadata": {},
   "outputs": [],
   "source": [
    "from sklearn.linear_model import LinearRegression, Lasso\n",
    "from sklearn.preprocessing import StandardScaler, PolynomialFeatures\n",
    "from sklearn.pipeline import Pipeline\n",
    "from sklearn.linear_model import Ridge\n",
    "from sklearn.feature_selection import SequentialFeatureSelector, SelectFromModel\n",
    "from sklearn.metrics import mean_squared_error\n",
    "from sklearn.model_selection import train_test_split, GridSearchCV\n",
    "from sklearn import set_config\n",
    "set_config(display=\"diagram\")\n",
    "\n",
    "\n",
    "import pandas as pd\n",
    "import numpy as np\n",
    "import seaborn as sns\n",
    "import plotly.express as px\n",
    "\n",
    "import time"
   ]
  },
  {
   "cell_type": "code",
   "execution_count": 78,
   "id": "b7c70a97",
   "metadata": {},
   "outputs": [],
   "source": [
    "weather_data = pd.read_csv('data/Istanbul Weather Data.csv')"
   ]
  },
  {
   "cell_type": "markdown",
   "id": "6206d935",
   "metadata": {},
   "source": [
    "check for & remove rows with null values"
   ]
  },
  {
   "cell_type": "code",
   "execution_count": 79,
   "id": "e5a9b471",
   "metadata": {},
   "outputs": [
    {
     "data": {
      "text/plain": [
       "DateTime         0\n",
       "Condition        0\n",
       "Rain             0\n",
       "MaxTemp          0\n",
       "MinTemp          0\n",
       "SunRise          0\n",
       "SunSet           0\n",
       "MoonRise       130\n",
       "MoonSet        130\n",
       "AvgWind          0\n",
       "AvgHumidity      0\n",
       "AvgPressure      0\n",
       "dtype: int64"
      ]
     },
     "execution_count": 79,
     "metadata": {},
     "output_type": "execute_result"
    }
   ],
   "source": [
    "weather_data.isnull().sum()"
   ]
  },
  {
   "cell_type": "code",
   "execution_count": 80,
   "id": "9881302b",
   "metadata": {},
   "outputs": [
    {
     "data": {
      "text/plain": [
       "DateTime       0\n",
       "Condition      0\n",
       "Rain           0\n",
       "MaxTemp        0\n",
       "MinTemp        0\n",
       "SunRise        0\n",
       "SunSet         0\n",
       "MoonRise       0\n",
       "MoonSet        0\n",
       "AvgWind        0\n",
       "AvgHumidity    0\n",
       "AvgPressure    0\n",
       "dtype: int64"
      ]
     },
     "execution_count": 80,
     "metadata": {},
     "output_type": "execute_result"
    }
   ],
   "source": [
    "weather_data = weather_data.dropna()\n",
    "weather_data.isnull().sum()"
   ]
  },
  {
   "cell_type": "code",
   "execution_count": 81,
   "id": "7a3d2439",
   "metadata": {},
   "outputs": [
    {
     "name": "stdout",
     "output_type": "stream",
     "text": [
      "<class 'pandas.core.frame.DataFrame'>\n",
      "Int64Index: 3594 entries, 0 to 3853\n",
      "Data columns (total 12 columns):\n",
      " #   Column       Non-Null Count  Dtype  \n",
      "---  ------       --------------  -----  \n",
      " 0   DateTime     3594 non-null   object \n",
      " 1   Condition    3594 non-null   object \n",
      " 2   Rain         3594 non-null   float64\n",
      " 3   MaxTemp      3594 non-null   int64  \n",
      " 4   MinTemp      3594 non-null   int64  \n",
      " 5   SunRise      3594 non-null   object \n",
      " 6   SunSet       3594 non-null   object \n",
      " 7   MoonRise     3594 non-null   object \n",
      " 8   MoonSet      3594 non-null   object \n",
      " 9   AvgWind      3594 non-null   int64  \n",
      " 10  AvgHumidity  3594 non-null   int64  \n",
      " 11  AvgPressure  3594 non-null   int64  \n",
      "dtypes: float64(1), int64(5), object(6)\n",
      "memory usage: 365.0+ KB\n"
     ]
    }
   ],
   "source": [
    "weather_data.info()"
   ]
  },
  {
   "cell_type": "markdown",
   "id": "ef4e7e32",
   "metadata": {},
   "source": [
    "convert timestamps into panda datetimes - from epoch"
   ]
  },
  {
   "cell_type": "code",
   "execution_count": 82,
   "id": "0227230f",
   "metadata": {},
   "outputs": [
    {
     "data": {
      "text/html": [
       "<div>\n",
       "<style scoped>\n",
       "    .dataframe tbody tr th:only-of-type {\n",
       "        vertical-align: middle;\n",
       "    }\n",
       "\n",
       "    .dataframe tbody tr th {\n",
       "        vertical-align: top;\n",
       "    }\n",
       "\n",
       "    .dataframe thead th {\n",
       "        text-align: right;\n",
       "    }\n",
       "</style>\n",
       "<table border=\"1\" class=\"dataframe\">\n",
       "  <thead>\n",
       "    <tr style=\"text-align: right;\">\n",
       "      <th></th>\n",
       "      <th>DateTime</th>\n",
       "      <th>Condition</th>\n",
       "      <th>Rain</th>\n",
       "      <th>MaxTemp</th>\n",
       "      <th>MinTemp</th>\n",
       "      <th>SunRise</th>\n",
       "      <th>SunSet</th>\n",
       "      <th>MoonRise</th>\n",
       "      <th>MoonSet</th>\n",
       "      <th>AvgWind</th>\n",
       "      <th>AvgHumidity</th>\n",
       "      <th>AvgPressure</th>\n",
       "    </tr>\n",
       "  </thead>\n",
       "  <tbody>\n",
       "    <tr>\n",
       "      <th>0</th>\n",
       "      <td>1563778800</td>\n",
       "      <td>Partly cloudy</td>\n",
       "      <td>0.0</td>\n",
       "      <td>29</td>\n",
       "      <td>23</td>\n",
       "      <td>-2208938940</td>\n",
       "      <td>-2208886200</td>\n",
       "      <td>-2208874740</td>\n",
       "      <td>-2208920940</td>\n",
       "      <td>19</td>\n",
       "      <td>57</td>\n",
       "      <td>1017</td>\n",
       "    </tr>\n",
       "    <tr>\n",
       "      <th>1</th>\n",
       "      <td>1563692400</td>\n",
       "      <td>Sunny</td>\n",
       "      <td>0.0</td>\n",
       "      <td>28</td>\n",
       "      <td>23</td>\n",
       "      <td>-2208939000</td>\n",
       "      <td>-2208886140</td>\n",
       "      <td>-2208876240</td>\n",
       "      <td>-2208924420</td>\n",
       "      <td>20</td>\n",
       "      <td>59</td>\n",
       "      <td>1018</td>\n",
       "    </tr>\n",
       "    <tr>\n",
       "      <th>2</th>\n",
       "      <td>1563606000</td>\n",
       "      <td>Partly cloudy</td>\n",
       "      <td>0.0</td>\n",
       "      <td>28</td>\n",
       "      <td>22</td>\n",
       "      <td>-2208939000</td>\n",
       "      <td>-2208886080</td>\n",
       "      <td>-2208877860</td>\n",
       "      <td>-2208927900</td>\n",
       "      <td>24</td>\n",
       "      <td>62</td>\n",
       "      <td>1016</td>\n",
       "    </tr>\n",
       "    <tr>\n",
       "      <th>3</th>\n",
       "      <td>1563519600</td>\n",
       "      <td>Sunny</td>\n",
       "      <td>0.0</td>\n",
       "      <td>28</td>\n",
       "      <td>23</td>\n",
       "      <td>-2208939120</td>\n",
       "      <td>-2208886080</td>\n",
       "      <td>-2208879660</td>\n",
       "      <td>-2208931440</td>\n",
       "      <td>20</td>\n",
       "      <td>60</td>\n",
       "      <td>1014</td>\n",
       "    </tr>\n",
       "    <tr>\n",
       "      <th>4</th>\n",
       "      <td>1563433200</td>\n",
       "      <td>Partly cloudy</td>\n",
       "      <td>0.0</td>\n",
       "      <td>27</td>\n",
       "      <td>22</td>\n",
       "      <td>-2208939180</td>\n",
       "      <td>-2208886020</td>\n",
       "      <td>-2208881580</td>\n",
       "      <td>-2208934980</td>\n",
       "      <td>16</td>\n",
       "      <td>56</td>\n",
       "      <td>1010</td>\n",
       "    </tr>\n",
       "  </tbody>\n",
       "</table>\n",
       "</div>"
      ],
      "text/plain": [
       "     DateTime      Condition  Rain  MaxTemp  MinTemp     SunRise      SunSet  \\\n",
       "0  1563778800  Partly cloudy   0.0       29       23 -2208938940 -2208886200   \n",
       "1  1563692400          Sunny   0.0       28       23 -2208939000 -2208886140   \n",
       "2  1563606000  Partly cloudy   0.0       28       22 -2208939000 -2208886080   \n",
       "3  1563519600          Sunny   0.0       28       23 -2208939120 -2208886080   \n",
       "4  1563433200  Partly cloudy   0.0       27       22 -2208939180 -2208886020   \n",
       "\n",
       "     MoonRise     MoonSet  AvgWind  AvgHumidity  AvgPressure  \n",
       "0 -2208874740 -2208920940       19           57         1017  \n",
       "1 -2208876240 -2208924420       20           59         1018  \n",
       "2 -2208877860 -2208927900       24           62         1016  \n",
       "3 -2208879660 -2208931440       20           60         1014  \n",
       "4 -2208881580 -2208934980       16           56         1010  "
      ]
     },
     "execution_count": 82,
     "metadata": {},
     "output_type": "execute_result"
    }
   ],
   "source": [
    "date_pattern = '%d.%m.%Y'\n",
    "weather_data['DateTime'] = weather_data['DateTime'].apply(lambda row: int(time.mktime(time.strptime(row,date_pattern))))\n",
    "\n",
    "time_pattern = '%H:%M:%S'\n",
    "weather_data['SunRise'] = weather_data['SunRise'].apply(lambda row: int(time.mktime(time.strptime(row,time_pattern))))\n",
    "weather_data['SunSet'] = weather_data['SunSet'].apply(lambda row: int(time.mktime(time.strptime(row,time_pattern))))\n",
    "\n",
    "weather_data['MoonRise'] = weather_data['MoonRise'].apply(lambda row: int(time.mktime(time.strptime(row,time_pattern))))\n",
    "weather_data['MoonSet'] = weather_data['MoonSet'].apply(lambda row: int(time.mktime(time.strptime(row,time_pattern))))\n",
    "weather_data.head()"
   ]
  },
  {
   "cell_type": "code",
   "execution_count": 106,
   "id": "6fc5905b",
   "metadata": {},
   "outputs": [],
   "source": [
    "# for col in weather_data:\n",
    "#     print(weather_data[col].unique())"
   ]
  },
  {
   "cell_type": "markdown",
   "id": "4aecb8df",
   "metadata": {},
   "source": [
    "encode Condition"
   ]
  },
  {
   "cell_type": "code",
   "execution_count": 88,
   "id": "eea7b189",
   "metadata": {},
   "outputs": [
    {
     "name": "stdout",
     "output_type": "stream",
     "text": [
      "<class 'pandas.core.frame.DataFrame'>\n",
      "Int64Index: 3594 entries, 0 to 3853\n",
      "Data columns (total 26 columns):\n",
      " #   Column                               Non-Null Count  Dtype\n",
      "---  ------                               --------------  -----\n",
      " 0   Blizzard                             3594 non-null   uint8\n",
      " 1   Cloudy                               3594 non-null   uint8\n",
      " 2   Fog                                  3594 non-null   uint8\n",
      " 3   Heavy rain                           3594 non-null   uint8\n",
      " 4   Heavy rain at times                  3594 non-null   uint8\n",
      " 5   Light drizzle                        3594 non-null   uint8\n",
      " 6   Light rain                           3594 non-null   uint8\n",
      " 7   Light rain shower                    3594 non-null   uint8\n",
      " 8   Light sleet                          3594 non-null   uint8\n",
      " 9   Light sleet showers                  3594 non-null   uint8\n",
      " 10  Mist                                 3594 non-null   uint8\n",
      " 11  Moderate or heavy rain shower        3594 non-null   uint8\n",
      " 12  Moderate or heavy rain with thunder  3594 non-null   uint8\n",
      " 13  Moderate or heavy sleet              3594 non-null   uint8\n",
      " 14  Moderate or heavy snow showers       3594 non-null   uint8\n",
      " 15  Moderate rain                        3594 non-null   uint8\n",
      " 16  Moderate rain at times               3594 non-null   uint8\n",
      " 17  Moderate snow                        3594 non-null   uint8\n",
      " 18  Overcast                             3594 non-null   uint8\n",
      " 19  Partly cloudy                        3594 non-null   uint8\n",
      " 20  Patchy light drizzle                 3594 non-null   uint8\n",
      " 21  Patchy light rain with thunder       3594 non-null   uint8\n",
      " 22  Patchy rain possible                 3594 non-null   uint8\n",
      " 23  Sunny                                3594 non-null   uint8\n",
      " 24  Thundery outbreaks possible          3594 non-null   uint8\n",
      " 25  Torrential rain shower               3594 non-null   uint8\n",
      "dtypes: uint8(26)\n",
      "memory usage: 248.4 KB\n"
     ]
    }
   ],
   "source": [
    "condition_df = pd.get_dummies(weather_data['Condition'])\n",
    "condition_df.info()"
   ]
  },
  {
   "cell_type": "markdown",
   "id": "25ddef60",
   "metadata": {},
   "source": [
    "Replace 'Condition' by dropping it & joining condition_df"
   ]
  },
  {
   "cell_type": "code",
   "execution_count": 111,
   "id": "66775fb3",
   "metadata": {},
   "outputs": [
    {
     "name": "stdout",
     "output_type": "stream",
     "text": [
      "<class 'pandas.core.frame.DataFrame'>\n",
      "Int64Index: 3594 entries, 0 to 3853\n",
      "Data columns (total 38 columns):\n",
      " #   Column                               Non-Null Count  Dtype  \n",
      "---  ------                               --------------  -----  \n",
      " 0   DateTime                             3594 non-null   int64  \n",
      " 1   Condition                            3594 non-null   object \n",
      " 2   Rain                                 3594 non-null   float64\n",
      " 3   MaxTemp                              3594 non-null   int64  \n",
      " 4   MinTemp                              3594 non-null   int64  \n",
      " 5   SunRise                              3594 non-null   int64  \n",
      " 6   SunSet                               3594 non-null   int64  \n",
      " 7   MoonRise                             3594 non-null   int64  \n",
      " 8   MoonSet                              3594 non-null   int64  \n",
      " 9   AvgWind                              3594 non-null   int64  \n",
      " 10  AvgHumidity                          3594 non-null   int64  \n",
      " 11  AvgPressure                          3594 non-null   int64  \n",
      " 12  Blizzard                             3594 non-null   uint8  \n",
      " 13  Cloudy                               3594 non-null   uint8  \n",
      " 14  Fog                                  3594 non-null   uint8  \n",
      " 15  Heavy rain                           3594 non-null   uint8  \n",
      " 16  Heavy rain at times                  3594 non-null   uint8  \n",
      " 17  Light drizzle                        3594 non-null   uint8  \n",
      " 18  Light rain                           3594 non-null   uint8  \n",
      " 19  Light rain shower                    3594 non-null   uint8  \n",
      " 20  Light sleet                          3594 non-null   uint8  \n",
      " 21  Light sleet showers                  3594 non-null   uint8  \n",
      " 22  Mist                                 3594 non-null   uint8  \n",
      " 23  Moderate or heavy rain shower        3594 non-null   uint8  \n",
      " 24  Moderate or heavy rain with thunder  3594 non-null   uint8  \n",
      " 25  Moderate or heavy sleet              3594 non-null   uint8  \n",
      " 26  Moderate or heavy snow showers       3594 non-null   uint8  \n",
      " 27  Moderate rain                        3594 non-null   uint8  \n",
      " 28  Moderate rain at times               3594 non-null   uint8  \n",
      " 29  Moderate snow                        3594 non-null   uint8  \n",
      " 30  Overcast                             3594 non-null   uint8  \n",
      " 31  Partly cloudy                        3594 non-null   uint8  \n",
      " 32  Patchy light drizzle                 3594 non-null   uint8  \n",
      " 33  Patchy light rain with thunder       3594 non-null   uint8  \n",
      " 34  Patchy rain possible                 3594 non-null   uint8  \n",
      " 35  Sunny                                3594 non-null   uint8  \n",
      " 36  Thundery outbreaks possible          3594 non-null   uint8  \n",
      " 37  Torrential rain shower               3594 non-null   uint8  \n",
      "dtypes: float64(1), int64(10), object(1), uint8(26)\n",
      "memory usage: 585.3+ KB\n"
     ]
    }
   ],
   "source": [
    "# weather = weather_data.drop(columns=['Condition'])\n",
    "# weather.head()\n",
    "# weather = weather.join(condition_df)\n",
    "# weather.head()\n",
    "weather = weather_data\n",
    "weather = weather.join(condition_df)\n",
    "weather.info()"
   ]
  },
  {
   "cell_type": "code",
   "execution_count": 16,
   "id": "812fd25a",
   "metadata": {},
   "outputs": [],
   "source": [
    "X = weather.drop('Rain', axis=1)\n",
    "y = weather['Rain']"
   ]
  },
  {
   "cell_type": "code",
   "execution_count": 19,
   "id": "7b74623d",
   "metadata": {},
   "outputs": [],
   "source": [
    "X_train, X_test, y_train, y_test = train_test_split(X, y, test_size=0.3, random_state=42)"
   ]
  },
  {
   "cell_type": "markdown",
   "id": "cec489a9",
   "metadata": {},
   "source": [
    "GridSearchCV using StandardScalar & Ridge regression\n",
    "Ridge: applies penalty that shrinks the coefficients of the model"
   ]
  },
  {
   "cell_type": "code",
   "execution_count": 40,
   "id": "f7b60ad5",
   "metadata": {},
   "outputs": [
    {
     "name": "stdout",
     "output_type": "stream",
     "text": [
      "Train MSE: 3.0732670520945002\n",
      "Test MSE: 3.895120045850751\n",
      "Best Alpha: 1000.0\n"
     ]
    }
   ],
   "source": [
    "pipe_ridge = Pipeline([\n",
    "    ('scalar', StandardScaler()), \n",
    "    ('ridge', Ridge())\n",
    "])\n",
    "param_dict = {'ridge__alpha': [0.0001, 0.001, 0.1, 1.0, 10.0, 100.0, 1000.0, 10000.0, 100000.0]}\n",
    "grid_search = GridSearchCV(pipe_ridge, param_grid=param_dict)\n",
    "grid_search.fit(X_train, y_train)\n",
    "\n",
    "model_train_mse = mean_squared_error(y_train, grid_search.predict(X_train))\n",
    "model_test_mse = mean_squared_error(y_test, grid_search.predict(X_test))\n",
    "\n",
    "model_best_alpha = grid_search.best_params_\n",
    "\n",
    "print(f'Train MSE: {model_train_mse}')\n",
    "print(f'Test MSE: {model_test_mse}')\n",
    "print(f'Best Alpha: {list(model_best_alpha.values())[0]}')"
   ]
  },
  {
   "cell_type": "markdown",
   "id": "87aeb472",
   "metadata": {},
   "source": [
    "GridSearchCV using SequentalFeatureSelector\n",
    "SequentialFeatureSelector: selects subset of features to construct a model"
   ]
  },
  {
   "cell_type": "code",
   "execution_count": 47,
   "id": "283ef5d0",
   "metadata": {},
   "outputs": [
    {
     "name": "stdout",
     "output_type": "stream",
     "text": [
      "Train MSE: 2.9652686748084296\n",
      "Test MSE: 4.0547508588082914\n",
      "Selected features and coefficient values:\n"
     ]
    },
    {
     "data": {
      "text/html": [
       "<div>\n",
       "<style scoped>\n",
       "    .dataframe tbody tr th:only-of-type {\n",
       "        vertical-align: middle;\n",
       "    }\n",
       "\n",
       "    .dataframe tbody tr th {\n",
       "        vertical-align: top;\n",
       "    }\n",
       "\n",
       "    .dataframe thead th {\n",
       "        text-align: right;\n",
       "    }\n",
       "</style>\n",
       "<table border=\"1\" class=\"dataframe\">\n",
       "  <thead>\n",
       "    <tr style=\"text-align: right;\">\n",
       "      <th></th>\n",
       "      <th>MinTemp</th>\n",
       "      <th>AvgWind</th>\n",
       "      <th>AvgHumidity</th>\n",
       "      <th>AvgPressure</th>\n",
       "      <th>Cloudy</th>\n",
       "      <th>Fog</th>\n",
       "      <th>Heavy rain</th>\n",
       "      <th>Heavy rain at times</th>\n",
       "      <th>Light rain</th>\n",
       "      <th>Light rain shower</th>\n",
       "      <th>Mist</th>\n",
       "      <th>Moderate or heavy rain shower</th>\n",
       "      <th>Moderate or heavy snow showers</th>\n",
       "      <th>Overcast</th>\n",
       "      <th>Partly cloudy</th>\n",
       "      <th>Patchy light drizzle</th>\n",
       "      <th>Patchy rain possible</th>\n",
       "      <th>Sunny</th>\n",
       "      <th>Thundery outbreaks possible</th>\n",
       "      <th>Torrential rain shower</th>\n",
       "    </tr>\n",
       "  </thead>\n",
       "  <tbody>\n",
       "    <tr>\n",
       "      <th>model</th>\n",
       "      <td>-0.020846</td>\n",
       "      <td>0.017298</td>\n",
       "      <td>0.03453</td>\n",
       "      <td>-0.065157</td>\n",
       "      <td>-10.055335</td>\n",
       "      <td>-12.186561</td>\n",
       "      <td>14.492471</td>\n",
       "      <td>14.920779</td>\n",
       "      <td>-6.407143</td>\n",
       "      <td>-8.092577</td>\n",
       "      <td>-9.99072</td>\n",
       "      <td>4.995395</td>\n",
       "      <td>-10.048671</td>\n",
       "      <td>-9.301344</td>\n",
       "      <td>-9.989941</td>\n",
       "      <td>-8.594544</td>\n",
       "      <td>-9.370924</td>\n",
       "      <td>-10.482021</td>\n",
       "      <td>-8.505175</td>\n",
       "      <td>24.062876</td>\n",
       "    </tr>\n",
       "  </tbody>\n",
       "</table>\n",
       "</div>"
      ],
      "text/plain": [
       "        MinTemp   AvgWind  AvgHumidity  AvgPressure     Cloudy        Fog  \\\n",
       "model -0.020846  0.017298      0.03453    -0.065157 -10.055335 -12.186561   \n",
       "\n",
       "       Heavy rain  Heavy rain at times  Light rain  Light rain shower  \\\n",
       "model   14.492471            14.920779   -6.407143          -8.092577   \n",
       "\n",
       "          Mist  Moderate or heavy rain shower  Moderate or heavy snow showers  \\\n",
       "model -9.99072                       4.995395                      -10.048671   \n",
       "\n",
       "       Overcast  Partly cloudy  Patchy light drizzle  Patchy rain possible  \\\n",
       "model -9.301344      -9.989941             -8.594544             -9.370924   \n",
       "\n",
       "           Sunny  Thundery outbreaks possible  Torrential rain shower  \n",
       "model -10.482021                    -8.505175               24.062876  "
      ]
     },
     "execution_count": 47,
     "metadata": {},
     "output_type": "execute_result"
    }
   ],
   "source": [
    "pipe_selector = Pipeline([\n",
    "    ('selector', SequentialFeatureSelector(LinearRegression())),\n",
    "    ('model', LinearRegression())\n",
    "])\n",
    "param_dict = {'selector__n_features_to_select' : [2,3,4,5,6,7,8,9,10,20]}\n",
    "grid_search = GridSearchCV(pipe_selector, param_grid=param_dict)\n",
    "grid_search.fit(X_train, y_train)\n",
    "\n",
    "model_train_mse = mean_squared_error(y_train, grid_search.predict(X_train))\n",
    "model_test_mse = mean_squared_error(y_test, grid_search.predict(X_test))\n",
    "\n",
    "selector = grid_search.best_estimator_.named_steps['selector']\n",
    "feature_names = X_train.columns[selector.get_support()]\n",
    "coefficients = grid_search.best_estimator_.named_steps['model'].coef_\n",
    "\n",
    "\n",
    "print(f'Train MSE: {model_train_mse}')\n",
    "print(f'Test MSE: {model_test_mse}')\n",
    "print('Selected features and coefficient values:')\n",
    "pd.DataFrame([coefficients.T], columns=feature_names, index=['model'])"
   ]
  },
  {
   "cell_type": "markdown",
   "id": "09ff550f",
   "metadata": {},
   "source": [
    "PolynomialFeatures with SequentialFeatureSelector"
   ]
  },
  {
   "cell_type": "code",
   "execution_count": 49,
   "id": "6403ab40",
   "metadata": {},
   "outputs": [
    {
     "name": "stdout",
     "output_type": "stream",
     "text": [
      "Train MSE: 3.3306842136575714\n",
      "Test MSE: 5.016885576074871\n"
     ]
    }
   ],
   "source": [
    "pipe_sequential = Pipeline([\n",
    "    ('poly_features', PolynomialFeatures(degree=3, include_bias=False)),\n",
    "    ('selector', SequentialFeatureSelector(LinearRegression(), n_features_to_select=10)),\n",
    "    ('linreg', LinearRegression())\n",
    "])\n",
    "pipe_sequential.fit(X_train, y_train)\n",
    "\n",
    "model_train_mse = mean_squared_error(y_train, pipe_sequential.predict(X_train))\n",
    "model_test_mse = mean_squared_error(y_test, pipe_sequential.predict(X_test))\n",
    "\n",
    "print(f'Train MSE: {model_train_mse}')\n",
    "print(f'Test MSE: {model_test_mse}')"
   ]
  },
  {
   "cell_type": "markdown",
   "id": "e3a75432",
   "metadata": {},
   "source": [
    "PolynomialFeatures with Ridge"
   ]
  },
  {
   "cell_type": "code",
   "execution_count": null,
   "id": "34e59dd1",
   "metadata": {},
   "outputs": [],
   "source": [
    "pipe_ridge = Pipeline([\n",
    "    ('poly_features', PolynomialFeatures(degree=3, include_bias=False)),\n",
    "    ('scaler', StandardScaler()),\n",
    "    ('ridge', Ridge())\n",
    "])\n",
    "alpha_to_try_dict = {'ridge__alpha':10**np.linspace(-2,2,100)}\n",
    "grid_ridge = GridSearchCV(pipe_ridge,\n",
    "                         param_grid=alpha_to_try_dict,\n",
    "                         scoring='neg_mean_squared_error')\n",
    "grid_ridge.fit(X_train, y_train)\n",
    "\n",
    "model_train_mse = mean_squared_error(y_train, grid_ridge.predict(X_train))\n",
    "model_test_mse = mean_squared_error(y_test, grid_ridge.predict(X_test))\n",
    "\n",
    "model_best_alpha = grid_ridge.best_params_\n",
    "\n",
    "print(f'Train MSE: {model_train_mse}')\n",
    "print(f'Test MSE: {model_test_mse}')\n",
    "print(f'Best Alpha: {list(model_best_alpha.values())[0]}')"
   ]
  },
  {
   "cell_type": "markdown",
   "id": "6f769a45",
   "metadata": {},
   "source": [
    "PolynomialFeatures with Lasso"
   ]
  },
  {
   "cell_type": "code",
   "execution_count": null,
   "id": "7f51a9a0",
   "metadata": {},
   "outputs": [],
   "source": [
    "pipe_lasso = Pipeline([\n",
    "    ('polyfeatures', PolynomialFeatures(degree=3, include_bias=False)),\n",
    "    ('scaler', StandardScaler()),\n",
    "    ('lasso', Lasso(random_state=42))\n",
    "])\n",
    "pipe_lasso.fit(X_train, y_train)\n",
    "\n",
    "model_train_mse = mean_squared_error(y_train, pipe_lasso.predict(X_train))\n",
    "model_test_mse = mean_squared_error(y_test, pipe_lasso.predict(X_test))\n",
    "\n",
    "print(f'Train MSE: {model_train_mse}')\n",
    "print(f'Test MSE: {model_test_mse}')\n",
    "\n",
    "# get features with non-zero coefficients\n",
    "features = pipe_lasso.named_steps['polyfeatures'].get_feature_names_out()\n",
    "coefficients = pipe_lasso.named_steps['lasso']\n",
    "\n",
    "lasso_dataframe = pd.DataFrame({'features':features, 'coefficients':coefficients})\n",
    "lasso_dataframe"
   ]
  },
  {
   "cell_type": "markdown",
   "id": "93ccb27e",
   "metadata": {},
   "source": [
    "PolynomialFeatures with SequentialFeatureSelector"
   ]
  },
  {
   "cell_type": "code",
   "execution_count": null,
   "id": "93199faa",
   "metadata": {},
   "outputs": [],
   "source": [
    "pipe_sequential = Pipeline([\n",
    "    ('poly_features', PolynomialFeatures(degree = 3, include_bias = False)),\n",
    "    ('selector', SequentialFeatureSelector(LinearRegression(), n_features_to_select=6)),\n",
    "    ('linreg', LinearRegression())]\n",
    "])\n",
    "pipe_sequential.fit(X_train, y_train)\n",
    "\n",
    "model_train_mse = mean_squared_error(y_train, pipe_sequential.predict(X_train))\n",
    "model_test_mse = mean_squared_error(y_test, pipe_sequential.predict(X_test))\n",
    "\n",
    "print(f'Train MSE: {model_train_mse}')\n",
    "print(f'Test MSE: {model_test_mse}')"
   ]
  }
 ],
 "metadata": {
  "kernelspec": {
   "display_name": "Python 3 (ipykernel)",
   "language": "python",
   "name": "python3"
  },
  "language_info": {
   "codemirror_mode": {
    "name": "ipython",
    "version": 3
   },
   "file_extension": ".py",
   "mimetype": "text/x-python",
   "name": "python",
   "nbconvert_exporter": "python",
   "pygments_lexer": "ipython3",
   "version": "3.10.9"
  }
 },
 "nbformat": 4,
 "nbformat_minor": 5
}
